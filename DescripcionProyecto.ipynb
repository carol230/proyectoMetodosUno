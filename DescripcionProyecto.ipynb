{
 "cells": [
  {
   "cell_type": "markdown",
   "metadata": {},
   "source": [
    "# Descripción\n",
    "Un prestigioso banco lo ha contratado para implementar la calculadora de un programa de ahorro moderno. \n",
    "Este programa consiste de:\n",
    "* Un depósito inicial de al menos 50 dólares y\n",
    "* aportes semanales de al menos 5 dólares.\n",
    "\n",
    "Los técnicos del banco le han proporcionado la fórmula básica para calcular el interés compuesto:\n",
    "\n",
    "$V_f=V_o(1+i)^n$\n",
    "Donde:\n",
    "* $V_f$ es el valor final en la cuenta de ahorros,\n",
    "* $V_o$ es el valor de depósito inicial,\n",
    "* $i$ es la tasa de interés,\n",
    "* $n$ es el número de periodos transcuridos.\n",
    "\n",
    "\n",
    "Sin embargo, esta fórmula **ESTÁ INCOMPLETA**, pues los técnicos del banco desconocen cómo se debe calcular los interes en base a los aportes semanales. Parte de su proyecto es establecer la expresión matemática para encontrar la tasa de interés. \n",
    "\n",
    "En su lugar le han dado el siguiente ejemplo:\n",
    "\n",
    "## Ejemplo\n",
    "Dado un depósito inicial de 100 dólares, aportes semanales de 5 dólares y una tasa de interés anual del 8%, la tabla de cálculo sería la siguiente:\n",
    "\n",
    "|  Semana  |  Aporte ($)  |  Capital ($)  |  Ganancia ($)  |  Total ($)  |\n",
    "|  ---     |         ---  |          ---  |           ---  |        ---  |\n",
    "|  1  |  100 |   100        |   0.15    |   100.15  |\n",
    "|  2  |  5   |   105.15     |   0.16    |   105.31  |\n",
    "|  3  |  5   |   110.31     |   0.17    |   110.48  |\n",
    "|  4  |  5   |   115.48     |   0.18    |   115.66  |\n",
    "|  5  |  5   |   120.66     |   0.19    |   120.85  |\n",
    "...\n",
    "|  51  |  5  |   367.65     |   0.57    |   368.22  |\n",
    "|  52  |  5  |   373.22     |   0.57    |   373.79  |\n",
    "\n",
    "\n",
    "# Objetivo\n",
    "Los técnicos del banco desean la calculadora para probar diferentes escenarios de ahorro, con el objetivo principal de determinar la tasa de **interés**. \n",
    "\n",
    "* Considere que el banco puede cambiar de opinión y pedirle que los aportes ya no sean semanales, sino mensuales, trimestrales o bimestrales. Incluya esta posibilidad en su programa."
   ]
  }
 ],
 "metadata": {
  "language_info": {
   "name": "python"
  }
 },
 "nbformat": 4,
 "nbformat_minor": 2
}
